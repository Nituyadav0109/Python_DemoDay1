import pandas as pd

# Load dataset
df = pd.read_csv("https://media.geeksforgeeks.org/wp-content/uploads/nba.csv")

# Data Loading & Familiarization
print(df.head())
print(df.info())
print(df.isnull().sum())
